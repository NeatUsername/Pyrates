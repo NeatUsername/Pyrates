{
 "cells": [
  {
   "cell_type": "code",
   "execution_count": 1,
   "id": "external-fifth",
   "metadata": {},
   "outputs": [],
   "source": [
    "import json\n",
    "import pymongo\n",
    "\n",
    "conn = 'mongodb://localhost:27017'\n",
    "client = pymongo.MongoClient(conn)\n",
    "db = client.pyrates_cleaned_v2\n",
    "collection = db.items_cleaned_v2\n"
   ]
  },
  {
   "cell_type": "code",
   "execution_count": 2,
   "id": "accurate-tulsa",
   "metadata": {},
   "outputs": [],
   "source": [
    "with open('data_2.json') as new_data:\n",
    "    file_data = json.load(new_data)\n",
    "\n",
    "collection.insert_many(file_data)\n",
    "\n",
    "client.close()"
   ]
  },
  {
   "cell_type": "code",
   "execution_count": null,
   "id": "designed-greene",
   "metadata": {},
   "outputs": [],
   "source": []
  }
 ],
 "metadata": {
  "kernelspec": {
   "display_name": "PythonData",
   "language": "python",
   "name": "pythondata"
  },
  "language_info": {
   "codemirror_mode": {
    "name": "ipython",
    "version": 3
   },
   "file_extension": ".py",
   "mimetype": "text/x-python",
   "name": "python",
   "nbconvert_exporter": "python",
   "pygments_lexer": "ipython3",
   "version": "3.6.12"
  }
 },
 "nbformat": 4,
 "nbformat_minor": 5
}
